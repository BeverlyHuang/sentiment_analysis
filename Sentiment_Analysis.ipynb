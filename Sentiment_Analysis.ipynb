{
  "nbformat": 4,
  "nbformat_minor": 0,
  "metadata": {
    "colab": {
      "name": "Sentiment_Analysis.ipynb",
      "version": "0.3.2",
      "provenance": [],
      "include_colab_link": true
    },
    "kernelspec": {
      "name": "python3",
      "display_name": "Python 3"
    },
    "accelerator": "TPU"
  },
  "cells": [
    {
      "cell_type": "markdown",
      "metadata": {
        "id": "view-in-github",
        "colab_type": "text"
      },
      "source": [
        "<a href=\"https://colab.research.google.com/github/BeverlyHuang/sentiment_analysis/blob/master/Sentiment_Analysis.ipynb\" target=\"_parent\"><img src=\"https://colab.research.google.com/assets/colab-badge.svg\" alt=\"Open In Colab\"/></a>"
      ]
    },
    {
      "metadata": {
        "id": "vs6NpFoRftT0",
        "colab_type": "text"
      },
      "cell_type": "markdown",
      "source": [
        "#Sentiment Analysis: Amazon Comprehend vs Cloud Natural Language"
      ]
    },
    {
      "metadata": {
        "id": "KgLAptGtRNUn",
        "colab_type": "text"
      },
      "cell_type": "markdown",
      "source": [
        "This project aims to compare and apply the NPL APIs for sentiment analysis. Both Amazon Comprehend and Google Cloud Natural Language will be explored in this project.\n"
      ]
    },
    {
      "metadata": {
        "id": "AFiYN8VdAMhr",
        "colab_type": "text"
      },
      "cell_type": "markdown",
      "source": [
        "#Amazon Comprehend"
      ]
    },
    {
      "metadata": {
        "id": "WtI0Yk_Kn49E",
        "colab_type": "text"
      },
      "cell_type": "markdown",
      "source": [
        "##Ingestion"
      ]
    },
    {
      "metadata": {
        "id": "MDIDXbrh5Kxm",
        "colab_type": "code",
        "colab": {}
      },
      "cell_type": "code",
      "source": [
        "import pandas as pd\n",
        "import boto3\n",
        "import json"
      ],
      "execution_count": 0,
      "outputs": []
    },
    {
      "metadata": {
        "id": "vsXVOJL27eAH",
        "colab_type": "text"
      },
      "cell_type": "markdown",
      "source": [
        "### Mount GDrive"
      ]
    },
    {
      "metadata": {
        "id": "gx-LCj4CM6on",
        "colab_type": "code",
        "outputId": "386efc69-9867-406b-e228-3d78b565081c",
        "colab": {
          "base_uri": "https://localhost:8080/",
          "height": 122
        }
      },
      "cell_type": "code",
      "source": [
        "from google.colab import drive\n",
        "drive.mount('/content/gdrive', force_remount=True)"
      ],
      "execution_count": 0,
      "outputs": [
        {
          "output_type": "stream",
          "text": [
            "Go to this URL in a browser: https://accounts.google.com/o/oauth2/auth?client_id=947318989803-6bn6qk8qdgf4n4g3pfee6491hc0brc4i.apps.googleusercontent.com&redirect_uri=urn%3Aietf%3Awg%3Aoauth%3A2.0%3Aoob&scope=email%20https%3A%2F%2Fwww.googleapis.com%2Fauth%2Fdocs.test%20https%3A%2F%2Fwww.googleapis.com%2Fauth%2Fdrive%20https%3A%2F%2Fwww.googleapis.com%2Fauth%2Fdrive.photos.readonly%20https%3A%2F%2Fwww.googleapis.com%2Fauth%2Fpeopleapi.readonly&response_type=code\n",
            "\n",
            "Enter your authorization code:\n",
            "··········\n",
            "Mounted at /content/gdrive\n"
          ],
          "name": "stdout"
        }
      ]
    },
    {
      "metadata": {
        "id": "aiwsVrA5oNbi",
        "colab_type": "code",
        "outputId": "b3d87ad9-a4dd-4fde-8086-34d407dca48a",
        "colab": {
          "base_uri": "https://localhost:8080/",
          "height": 34
        }
      },
      "cell_type": "code",
      "source": [
        "import os;os.listdir(\"/content/gdrive/My Drive/awsml\")"
      ],
      "execution_count": 0,
      "outputs": [
        {
          "output_type": "execute_result",
          "data": {
            "text/plain": [
              "['credentials.txt']"
            ]
          },
          "metadata": {
            "tags": []
          },
          "execution_count": 51
        }
      ]
    },
    {
      "metadata": {
        "id": "CPhYdoX-7nL5",
        "colab_type": "text"
      },
      "cell_type": "markdown",
      "source": [
        "### Create API Config"
      ]
    },
    {
      "metadata": {
        "id": "l-MSA5SAoVBQ",
        "colab_type": "code",
        "colab": {}
      },
      "cell_type": "code",
      "source": [
        "!mkdir -p ~/.aws &&\\\n",
        "  cat /content/gdrive/My\\ Drive/awsml/credentials.txt > ~/.aws/credentials"
      ],
      "execution_count": 0,
      "outputs": []
    },
    {
      "metadata": {
        "id": "ErJerROzJ0Mc",
        "colab_type": "text"
      },
      "cell_type": "markdown",
      "source": [
        "### Activate Sentiment Analysis API"
      ]
    },
    {
      "metadata": {
        "id": "xKY4oIZb5W5W",
        "colab_type": "code",
        "colab": {}
      },
      "cell_type": "code",
      "source": [
        "comprehend = boto3.client(service_name='comprehend', region_name=\"us-east-1\")"
      ],
      "execution_count": 0,
      "outputs": []
    },
    {
      "metadata": {
        "id": "2fUi4n3Pntcu",
        "colab_type": "text"
      },
      "cell_type": "markdown",
      "source": [
        "###Create a Apply Function"
      ]
    },
    {
      "metadata": {
        "id": "JliKH7x0ny9F",
        "colab_type": "code",
        "colab": {}
      },
      "cell_type": "code",
      "source": [
        "def sentiment(comments):\n",
        "  print(comprehend.detect_sentiment(Text=comments, LanguageCode='en')['Sentiment'])"
      ],
      "execution_count": 0,
      "outputs": []
    },
    {
      "metadata": {
        "id": "MfkCc4wmn_Jv",
        "colab_type": "text"
      },
      "cell_type": "markdown",
      "source": [
        "##EDA"
      ]
    },
    {
      "metadata": {
        "id": "_taDcLZe7488",
        "colab_type": "text"
      },
      "cell_type": "markdown",
      "source": [
        "### Load Hotel Review Data"
      ]
    },
    {
      "metadata": {
        "id": "WUh1Ip8emKCA",
        "colab_type": "text"
      },
      "cell_type": "markdown",
      "source": [
        "* https://www.kaggle.com/datafiniti/hotel-reviews"
      ]
    },
    {
      "metadata": {
        "id": "p9xgWeIm_-Ak",
        "colab_type": "code",
        "outputId": "8363b10b-5e40-44d8-a1e4-e4879770bbda",
        "colab": {
          "base_uri": "https://localhost:8080/",
          "height": 479
        }
      },
      "cell_type": "code",
      "source": [
        "df = pd.read_csv('https://raw.githubusercontent.com/BeverlyHuang/sentiment_analysis/master/hotel_reviews.csv')\n",
        "df.head()"
      ],
      "execution_count": 0,
      "outputs": [
        {
          "output_type": "execute_result",
          "data": {
            "text/html": [
              "<div>\n",
              "<style scoped>\n",
              "    .dataframe tbody tr th:only-of-type {\n",
              "        vertical-align: middle;\n",
              "    }\n",
              "\n",
              "    .dataframe tbody tr th {\n",
              "        vertical-align: top;\n",
              "    }\n",
              "\n",
              "    .dataframe thead th {\n",
              "        text-align: right;\n",
              "    }\n",
              "</style>\n",
              "<table border=\"1\" class=\"dataframe\">\n",
              "  <thead>\n",
              "    <tr style=\"text-align: right;\">\n",
              "      <th></th>\n",
              "      <th>address</th>\n",
              "      <th>categories</th>\n",
              "      <th>city</th>\n",
              "      <th>country</th>\n",
              "      <th>latitude</th>\n",
              "      <th>longitude</th>\n",
              "      <th>name</th>\n",
              "      <th>postalCode</th>\n",
              "      <th>province</th>\n",
              "      <th>reviews.date</th>\n",
              "      <th>reviews.dateAdded</th>\n",
              "      <th>reviews.doRecommend</th>\n",
              "      <th>reviews.id</th>\n",
              "      <th>reviews.rating</th>\n",
              "      <th>reviews.text</th>\n",
              "      <th>reviews.title</th>\n",
              "      <th>reviews.userCity</th>\n",
              "      <th>reviews.username</th>\n",
              "      <th>reviews.userProvince</th>\n",
              "    </tr>\n",
              "  </thead>\n",
              "  <tbody>\n",
              "    <tr>\n",
              "      <th>0</th>\n",
              "      <td>Riviera San Nicol 11/a</td>\n",
              "      <td>Hotels</td>\n",
              "      <td>Mableton</td>\n",
              "      <td>US</td>\n",
              "      <td>45.421611</td>\n",
              "      <td>12.376187</td>\n",
              "      <td>Hotel Russo Palace</td>\n",
              "      <td>30126</td>\n",
              "      <td>GA</td>\n",
              "      <td>2013-09-22T00:00:00Z</td>\n",
              "      <td>2016-10-24T00:00:25Z</td>\n",
              "      <td>NaN</td>\n",
              "      <td>NaN</td>\n",
              "      <td>4.0</td>\n",
              "      <td>Pleasant 10 min walk along the sea front to th...</td>\n",
              "      <td>Good location away from the crouds</td>\n",
              "      <td>NaN</td>\n",
              "      <td>Russ (kent)</td>\n",
              "      <td>NaN</td>\n",
              "    </tr>\n",
              "    <tr>\n",
              "      <th>1</th>\n",
              "      <td>Riviera San Nicol 11/a</td>\n",
              "      <td>Hotels</td>\n",
              "      <td>Mableton</td>\n",
              "      <td>US</td>\n",
              "      <td>45.421611</td>\n",
              "      <td>12.376187</td>\n",
              "      <td>Hotel Russo Palace</td>\n",
              "      <td>30126</td>\n",
              "      <td>GA</td>\n",
              "      <td>2015-04-03T00:00:00Z</td>\n",
              "      <td>2016-10-24T00:00:25Z</td>\n",
              "      <td>NaN</td>\n",
              "      <td>NaN</td>\n",
              "      <td>5.0</td>\n",
              "      <td>Really lovely hotel. Stayed on the very top fl...</td>\n",
              "      <td>Great hotel with Jacuzzi bath!</td>\n",
              "      <td>NaN</td>\n",
              "      <td>A Traveler</td>\n",
              "      <td>NaN</td>\n",
              "    </tr>\n",
              "    <tr>\n",
              "      <th>2</th>\n",
              "      <td>Riviera San Nicol 11/a</td>\n",
              "      <td>Hotels</td>\n",
              "      <td>Mableton</td>\n",
              "      <td>US</td>\n",
              "      <td>45.421611</td>\n",
              "      <td>12.376187</td>\n",
              "      <td>Hotel Russo Palace</td>\n",
              "      <td>30126</td>\n",
              "      <td>GA</td>\n",
              "      <td>2014-05-13T00:00:00Z</td>\n",
              "      <td>2016-10-24T00:00:25Z</td>\n",
              "      <td>NaN</td>\n",
              "      <td>NaN</td>\n",
              "      <td>5.0</td>\n",
              "      <td>Ett mycket bra hotell. Det som drog ner betyge...</td>\n",
              "      <td>Lugnt l��ge</td>\n",
              "      <td>NaN</td>\n",
              "      <td>Maud</td>\n",
              "      <td>NaN</td>\n",
              "    </tr>\n",
              "    <tr>\n",
              "      <th>3</th>\n",
              "      <td>Riviera San Nicol 11/a</td>\n",
              "      <td>Hotels</td>\n",
              "      <td>Mableton</td>\n",
              "      <td>US</td>\n",
              "      <td>45.421611</td>\n",
              "      <td>12.376187</td>\n",
              "      <td>Hotel Russo Palace</td>\n",
              "      <td>30126</td>\n",
              "      <td>GA</td>\n",
              "      <td>2013-10-27T00:00:00Z</td>\n",
              "      <td>2016-10-24T00:00:25Z</td>\n",
              "      <td>NaN</td>\n",
              "      <td>NaN</td>\n",
              "      <td>5.0</td>\n",
              "      <td>We stayed here for four nights in October. The...</td>\n",
              "      <td>Good location on the Lido.</td>\n",
              "      <td>NaN</td>\n",
              "      <td>Julie</td>\n",
              "      <td>NaN</td>\n",
              "    </tr>\n",
              "    <tr>\n",
              "      <th>4</th>\n",
              "      <td>Riviera San Nicol 11/a</td>\n",
              "      <td>Hotels</td>\n",
              "      <td>Mableton</td>\n",
              "      <td>US</td>\n",
              "      <td>45.421611</td>\n",
              "      <td>12.376187</td>\n",
              "      <td>Hotel Russo Palace</td>\n",
              "      <td>30126</td>\n",
              "      <td>GA</td>\n",
              "      <td>2015-03-05T00:00:00Z</td>\n",
              "      <td>2016-10-24T00:00:25Z</td>\n",
              "      <td>NaN</td>\n",
              "      <td>NaN</td>\n",
              "      <td>5.0</td>\n",
              "      <td>We stayed here for four nights in October. The...</td>\n",
              "      <td>������ ���������������</td>\n",
              "      <td>NaN</td>\n",
              "      <td>sungchul</td>\n",
              "      <td>NaN</td>\n",
              "    </tr>\n",
              "  </tbody>\n",
              "</table>\n",
              "</div>"
            ],
            "text/plain": [
              "                  address categories      city country   latitude  longitude  \\\n",
              "0  Riviera San Nicol 11/a     Hotels  Mableton      US  45.421611  12.376187   \n",
              "1  Riviera San Nicol 11/a     Hotels  Mableton      US  45.421611  12.376187   \n",
              "2  Riviera San Nicol 11/a     Hotels  Mableton      US  45.421611  12.376187   \n",
              "3  Riviera San Nicol 11/a     Hotels  Mableton      US  45.421611  12.376187   \n",
              "4  Riviera San Nicol 11/a     Hotels  Mableton      US  45.421611  12.376187   \n",
              "\n",
              "                 name postalCode province          reviews.date  \\\n",
              "0  Hotel Russo Palace      30126       GA  2013-09-22T00:00:00Z   \n",
              "1  Hotel Russo Palace      30126       GA  2015-04-03T00:00:00Z   \n",
              "2  Hotel Russo Palace      30126       GA  2014-05-13T00:00:00Z   \n",
              "3  Hotel Russo Palace      30126       GA  2013-10-27T00:00:00Z   \n",
              "4  Hotel Russo Palace      30126       GA  2015-03-05T00:00:00Z   \n",
              "\n",
              "      reviews.dateAdded  reviews.doRecommend  reviews.id  reviews.rating  \\\n",
              "0  2016-10-24T00:00:25Z                  NaN         NaN             4.0   \n",
              "1  2016-10-24T00:00:25Z                  NaN         NaN             5.0   \n",
              "2  2016-10-24T00:00:25Z                  NaN         NaN             5.0   \n",
              "3  2016-10-24T00:00:25Z                  NaN         NaN             5.0   \n",
              "4  2016-10-24T00:00:25Z                  NaN         NaN             5.0   \n",
              "\n",
              "                                        reviews.text  \\\n",
              "0  Pleasant 10 min walk along the sea front to th...   \n",
              "1  Really lovely hotel. Stayed on the very top fl...   \n",
              "2  Ett mycket bra hotell. Det som drog ner betyge...   \n",
              "3  We stayed here for four nights in October. The...   \n",
              "4  We stayed here for four nights in October. The...   \n",
              "\n",
              "                        reviews.title reviews.userCity reviews.username  \\\n",
              "0  Good location away from the crouds              NaN      Russ (kent)   \n",
              "1      Great hotel with Jacuzzi bath!              NaN       A Traveler   \n",
              "2                         Lugnt l��ge              NaN             Maud   \n",
              "3          Good location on the Lido.              NaN            Julie   \n",
              "4              ������ ���������������              NaN         sungchul   \n",
              "\n",
              "  reviews.userProvince  \n",
              "0                  NaN  \n",
              "1                  NaN  \n",
              "2                  NaN  \n",
              "3                  NaN  \n",
              "4                  NaN  "
            ]
          },
          "metadata": {
            "tags": []
          },
          "execution_count": 106
        }
      ]
    },
    {
      "metadata": {
        "id": "ebMxOwl_mZN5",
        "colab_type": "text"
      },
      "cell_type": "markdown",
      "source": [
        "###Extract 10 Positive Reviews"
      ]
    },
    {
      "metadata": {
        "id": "t1_elS8hEle-",
        "colab_type": "code",
        "outputId": "70b80581-a09a-4341-e381-2be0b46f95d9",
        "colab": {
          "base_uri": "https://localhost:8080/",
          "height": 838
        }
      },
      "cell_type": "code",
      "source": [
        "positive_reviews = df[df['reviews.rating']==10]\n",
        "positive_reviews = positive_reviews.head(10)\n",
        "positive_reviews"
      ],
      "execution_count": 0,
      "outputs": [
        {
          "output_type": "execute_result",
          "data": {
            "text/html": [
              "<div>\n",
              "<style scoped>\n",
              "    .dataframe tbody tr th:only-of-type {\n",
              "        vertical-align: middle;\n",
              "    }\n",
              "\n",
              "    .dataframe tbody tr th {\n",
              "        vertical-align: top;\n",
              "    }\n",
              "\n",
              "    .dataframe thead th {\n",
              "        text-align: right;\n",
              "    }\n",
              "</style>\n",
              "<table border=\"1\" class=\"dataframe\">\n",
              "  <thead>\n",
              "    <tr style=\"text-align: right;\">\n",
              "      <th></th>\n",
              "      <th>address</th>\n",
              "      <th>categories</th>\n",
              "      <th>city</th>\n",
              "      <th>country</th>\n",
              "      <th>latitude</th>\n",
              "      <th>longitude</th>\n",
              "      <th>name</th>\n",
              "      <th>postalCode</th>\n",
              "      <th>province</th>\n",
              "      <th>reviews.date</th>\n",
              "      <th>reviews.dateAdded</th>\n",
              "      <th>reviews.doRecommend</th>\n",
              "      <th>reviews.id</th>\n",
              "      <th>reviews.rating</th>\n",
              "      <th>reviews.text</th>\n",
              "      <th>reviews.title</th>\n",
              "      <th>reviews.userCity</th>\n",
              "      <th>reviews.username</th>\n",
              "      <th>reviews.userProvince</th>\n",
              "    </tr>\n",
              "  </thead>\n",
              "  <tbody>\n",
              "    <tr>\n",
              "      <th>4449</th>\n",
              "      <td>Taragaon Boudha</td>\n",
              "      <td>Hotels</td>\n",
              "      <td>Alliance</td>\n",
              "      <td>US</td>\n",
              "      <td>27.7216</td>\n",
              "      <td>85.355959</td>\n",
              "      <td>Hyatt Regency Kathmandu</td>\n",
              "      <td>44601</td>\n",
              "      <td>OH</td>\n",
              "      <td>2016-01-12T00:00:00Z</td>\n",
              "      <td>2016-11-11T23:48:28Z</td>\n",
              "      <td>NaN</td>\n",
              "      <td>NaN</td>\n",
              "      <td>10.0</td>\n",
              "      <td>None what so ever. The staff were all friendly...</td>\n",
              "      <td>The staff were all friendly whether at the 6th...</td>\n",
              "      <td>NaN</td>\n",
              "      <td>Hassan</td>\n",
              "      <td>NaN</td>\n",
              "    </tr>\n",
              "    <tr>\n",
              "      <th>4450</th>\n",
              "      <td>Taragaon Boudha</td>\n",
              "      <td>Hotels</td>\n",
              "      <td>Alliance</td>\n",
              "      <td>US</td>\n",
              "      <td>27.7216</td>\n",
              "      <td>85.355959</td>\n",
              "      <td>Hyatt Regency Kathmandu</td>\n",
              "      <td>44601</td>\n",
              "      <td>OH</td>\n",
              "      <td>2015-06-22T00:00:00Z</td>\n",
              "      <td>2016-11-11T23:48:28Z</td>\n",
              "      <td>NaN</td>\n",
              "      <td>NaN</td>\n",
              "      <td>10.0</td>\n",
              "      <td>Friendly staff in a beautiful setting combined...</td>\n",
              "      <td>Lovely place and business as usual.</td>\n",
              "      <td>NaN</td>\n",
              "      <td>Anonymous</td>\n",
              "      <td>NaN</td>\n",
              "    </tr>\n",
              "    <tr>\n",
              "      <th>4454</th>\n",
              "      <td>Taragaon Boudha</td>\n",
              "      <td>Hotels</td>\n",
              "      <td>Alliance</td>\n",
              "      <td>US</td>\n",
              "      <td>27.7216</td>\n",
              "      <td>85.355959</td>\n",
              "      <td>Hyatt Regency Kathmandu</td>\n",
              "      <td>44601</td>\n",
              "      <td>OH</td>\n",
              "      <td>2016-08-06T00:00:00Z</td>\n",
              "      <td>2016-11-11T23:48:28Z</td>\n",
              "      <td>NaN</td>\n",
              "      <td>NaN</td>\n",
              "      <td>10.0</td>\n",
              "      <td>Staff was amazing. So cheerful and helpful. I ...</td>\n",
              "      <td>Amazing hotel!!!</td>\n",
              "      <td>NaN</td>\n",
              "      <td>Artur</td>\n",
              "      <td>NaN</td>\n",
              "    </tr>\n",
              "    <tr>\n",
              "      <th>4464</th>\n",
              "      <td>Taragaon Boudha</td>\n",
              "      <td>Hotels</td>\n",
              "      <td>Alliance</td>\n",
              "      <td>US</td>\n",
              "      <td>27.7216</td>\n",
              "      <td>85.355959</td>\n",
              "      <td>Hyatt Regency Kathmandu</td>\n",
              "      <td>44601</td>\n",
              "      <td>OH</td>\n",
              "      <td>2016-09-20T00:00:00Z</td>\n",
              "      <td>2016-11-11T23:48:28Z</td>\n",
              "      <td>NaN</td>\n",
              "      <td>NaN</td>\n",
              "      <td>10.0</td>\n",
              "      <td>reception desk should explain things a little ...</td>\n",
              "      <td>Lovely choice of hotel</td>\n",
              "      <td>NaN</td>\n",
              "      <td>Happy</td>\n",
              "      <td>NaN</td>\n",
              "    </tr>\n",
              "    <tr>\n",
              "      <th>4466</th>\n",
              "      <td>Taragaon Boudha</td>\n",
              "      <td>Hotels</td>\n",
              "      <td>Alliance</td>\n",
              "      <td>US</td>\n",
              "      <td>27.7216</td>\n",
              "      <td>85.355959</td>\n",
              "      <td>Hyatt Regency Kathmandu</td>\n",
              "      <td>44601</td>\n",
              "      <td>OH</td>\n",
              "      <td>2016-07-12T00:00:00Z</td>\n",
              "      <td>2016-11-11T23:48:28Z</td>\n",
              "      <td>NaN</td>\n",
              "      <td>NaN</td>\n",
              "      <td>10.0</td>\n",
              "      <td>The control system of room A/C should be looke...</td>\n",
              "      <td>A pleasant and highly comfortable stay. at Hya...</td>\n",
              "      <td>NaN</td>\n",
              "      <td>Sultan</td>\n",
              "      <td>NaN</td>\n",
              "    </tr>\n",
              "    <tr>\n",
              "      <th>4487</th>\n",
              "      <td>Taragaon Boudha</td>\n",
              "      <td>Hotels</td>\n",
              "      <td>Alliance</td>\n",
              "      <td>US</td>\n",
              "      <td>27.7216</td>\n",
              "      <td>85.355959</td>\n",
              "      <td>Hyatt Regency Kathmandu</td>\n",
              "      <td>44601</td>\n",
              "      <td>OH</td>\n",
              "      <td>2016-06-30T00:00:00Z</td>\n",
              "      <td>2016-11-11T23:48:28Z</td>\n",
              "      <td>NaN</td>\n",
              "      <td>NaN</td>\n",
              "      <td>10.0</td>\n",
              "      <td>Nothing as such. The city is in a bad shape an...</td>\n",
              "      <td>Excellent stay</td>\n",
              "      <td>NaN</td>\n",
              "      <td>Ravi</td>\n",
              "      <td>NaN</td>\n",
              "    </tr>\n",
              "    <tr>\n",
              "      <th>4491</th>\n",
              "      <td>Taragaon Boudha</td>\n",
              "      <td>Hotels</td>\n",
              "      <td>Alliance</td>\n",
              "      <td>US</td>\n",
              "      <td>27.7216</td>\n",
              "      <td>85.355959</td>\n",
              "      <td>Hyatt Regency Kathmandu</td>\n",
              "      <td>44601</td>\n",
              "      <td>OH</td>\n",
              "      <td>2015-08-09T00:00:00Z</td>\n",
              "      <td>2016-11-11T23:48:28Z</td>\n",
              "      <td>NaN</td>\n",
              "      <td>NaN</td>\n",
              "      <td>10.0</td>\n",
              "      <td>nothing Everythings</td>\n",
              "      <td>very gud hotal</td>\n",
              "      <td>NaN</td>\n",
              "      <td>Sanjay</td>\n",
              "      <td>NaN</td>\n",
              "    </tr>\n",
              "    <tr>\n",
              "      <th>4495</th>\n",
              "      <td>Taragaon Boudha</td>\n",
              "      <td>Hotels</td>\n",
              "      <td>Alliance</td>\n",
              "      <td>US</td>\n",
              "      <td>27.7216</td>\n",
              "      <td>85.355959</td>\n",
              "      <td>Hyatt Regency Kathmandu</td>\n",
              "      <td>44601</td>\n",
              "      <td>OH</td>\n",
              "      <td>2016-09-11T00:00:00Z</td>\n",
              "      <td>2016-11-11T23:48:28Z</td>\n",
              "      <td>NaN</td>\n",
              "      <td>NaN</td>\n",
              "      <td>10.0</td>\n",
              "      <td>Nothing Everything</td>\n",
              "      <td>Everything</td>\n",
              "      <td>NaN</td>\n",
              "      <td>Eman</td>\n",
              "      <td>NaN</td>\n",
              "    </tr>\n",
              "    <tr>\n",
              "      <th>4500</th>\n",
              "      <td>Taragaon Boudha</td>\n",
              "      <td>Hotels</td>\n",
              "      <td>Alliance</td>\n",
              "      <td>US</td>\n",
              "      <td>27.7216</td>\n",
              "      <td>85.355959</td>\n",
              "      <td>Hyatt Regency Kathmandu</td>\n",
              "      <td>44601</td>\n",
              "      <td>OH</td>\n",
              "      <td>2016-08-09T00:00:00Z</td>\n",
              "      <td>2016-11-11T23:48:28Z</td>\n",
              "      <td>NaN</td>\n",
              "      <td>NaN</td>\n",
              "      <td>10.0</td>\n",
              "      <td>I wish Rox Restaurant was open for more hours ...</td>\n",
              "      <td>Excellent hospitality</td>\n",
              "      <td>NaN</td>\n",
              "      <td>Dalia</td>\n",
              "      <td>NaN</td>\n",
              "    </tr>\n",
              "    <tr>\n",
              "      <th>4501</th>\n",
              "      <td>Taragaon Boudha</td>\n",
              "      <td>Hotels</td>\n",
              "      <td>Alliance</td>\n",
              "      <td>US</td>\n",
              "      <td>27.7216</td>\n",
              "      <td>85.355959</td>\n",
              "      <td>Hyatt Regency Kathmandu</td>\n",
              "      <td>44601</td>\n",
              "      <td>OH</td>\n",
              "      <td>2016-08-03T00:00:00Z</td>\n",
              "      <td>2016-11-11T23:48:28Z</td>\n",
              "      <td>NaN</td>\n",
              "      <td>NaN</td>\n",
              "      <td>10.0</td>\n",
              "      <td>Staff are very good and I would like to go again</td>\n",
              "      <td>They take care of you like family</td>\n",
              "      <td>NaN</td>\n",
              "      <td>Navin</td>\n",
              "      <td>NaN</td>\n",
              "    </tr>\n",
              "  </tbody>\n",
              "</table>\n",
              "</div>"
            ],
            "text/plain": [
              "              address categories      city country  latitude  longitude  \\\n",
              "4449  Taragaon Boudha     Hotels  Alliance      US   27.7216  85.355959   \n",
              "4450  Taragaon Boudha     Hotels  Alliance      US   27.7216  85.355959   \n",
              "4454  Taragaon Boudha     Hotels  Alliance      US   27.7216  85.355959   \n",
              "4464  Taragaon Boudha     Hotels  Alliance      US   27.7216  85.355959   \n",
              "4466  Taragaon Boudha     Hotels  Alliance      US   27.7216  85.355959   \n",
              "4487  Taragaon Boudha     Hotels  Alliance      US   27.7216  85.355959   \n",
              "4491  Taragaon Boudha     Hotels  Alliance      US   27.7216  85.355959   \n",
              "4495  Taragaon Boudha     Hotels  Alliance      US   27.7216  85.355959   \n",
              "4500  Taragaon Boudha     Hotels  Alliance      US   27.7216  85.355959   \n",
              "4501  Taragaon Boudha     Hotels  Alliance      US   27.7216  85.355959   \n",
              "\n",
              "                         name postalCode province          reviews.date  \\\n",
              "4449  Hyatt Regency Kathmandu      44601       OH  2016-01-12T00:00:00Z   \n",
              "4450  Hyatt Regency Kathmandu      44601       OH  2015-06-22T00:00:00Z   \n",
              "4454  Hyatt Regency Kathmandu      44601       OH  2016-08-06T00:00:00Z   \n",
              "4464  Hyatt Regency Kathmandu      44601       OH  2016-09-20T00:00:00Z   \n",
              "4466  Hyatt Regency Kathmandu      44601       OH  2016-07-12T00:00:00Z   \n",
              "4487  Hyatt Regency Kathmandu      44601       OH  2016-06-30T00:00:00Z   \n",
              "4491  Hyatt Regency Kathmandu      44601       OH  2015-08-09T00:00:00Z   \n",
              "4495  Hyatt Regency Kathmandu      44601       OH  2016-09-11T00:00:00Z   \n",
              "4500  Hyatt Regency Kathmandu      44601       OH  2016-08-09T00:00:00Z   \n",
              "4501  Hyatt Regency Kathmandu      44601       OH  2016-08-03T00:00:00Z   \n",
              "\n",
              "         reviews.dateAdded  reviews.doRecommend  reviews.id  reviews.rating  \\\n",
              "4449  2016-11-11T23:48:28Z                  NaN         NaN            10.0   \n",
              "4450  2016-11-11T23:48:28Z                  NaN         NaN            10.0   \n",
              "4454  2016-11-11T23:48:28Z                  NaN         NaN            10.0   \n",
              "4464  2016-11-11T23:48:28Z                  NaN         NaN            10.0   \n",
              "4466  2016-11-11T23:48:28Z                  NaN         NaN            10.0   \n",
              "4487  2016-11-11T23:48:28Z                  NaN         NaN            10.0   \n",
              "4491  2016-11-11T23:48:28Z                  NaN         NaN            10.0   \n",
              "4495  2016-11-11T23:48:28Z                  NaN         NaN            10.0   \n",
              "4500  2016-11-11T23:48:28Z                  NaN         NaN            10.0   \n",
              "4501  2016-11-11T23:48:28Z                  NaN         NaN            10.0   \n",
              "\n",
              "                                           reviews.text  \\\n",
              "4449  None what so ever. The staff were all friendly...   \n",
              "4450  Friendly staff in a beautiful setting combined...   \n",
              "4454  Staff was amazing. So cheerful and helpful. I ...   \n",
              "4464  reception desk should explain things a little ...   \n",
              "4466  The control system of room A/C should be looke...   \n",
              "4487  Nothing as such. The city is in a bad shape an...   \n",
              "4491                                nothing Everythings   \n",
              "4495                                 Nothing Everything   \n",
              "4500  I wish Rox Restaurant was open for more hours ...   \n",
              "4501   Staff are very good and I would like to go again   \n",
              "\n",
              "                                          reviews.title reviews.userCity  \\\n",
              "4449  The staff were all friendly whether at the 6th...              NaN   \n",
              "4450                Lovely place and business as usual.              NaN   \n",
              "4454                                   Amazing hotel!!!              NaN   \n",
              "4464                             Lovely choice of hotel              NaN   \n",
              "4466  A pleasant and highly comfortable stay. at Hya...              NaN   \n",
              "4487                                     Excellent stay              NaN   \n",
              "4491                                     very gud hotal              NaN   \n",
              "4495                                         Everything              NaN   \n",
              "4500                              Excellent hospitality              NaN   \n",
              "4501                  They take care of you like family              NaN   \n",
              "\n",
              "     reviews.username reviews.userProvince  \n",
              "4449           Hassan                  NaN  \n",
              "4450        Anonymous                  NaN  \n",
              "4454            Artur                  NaN  \n",
              "4464            Happy                  NaN  \n",
              "4466           Sultan                  NaN  \n",
              "4487             Ravi                  NaN  \n",
              "4491           Sanjay                  NaN  \n",
              "4495             Eman                  NaN  \n",
              "4500            Dalia                  NaN  \n",
              "4501            Navin                  NaN  "
            ]
          },
          "metadata": {
            "tags": []
          },
          "execution_count": 107
        }
      ]
    },
    {
      "metadata": {
        "id": "6llsbJwt4669",
        "colab_type": "code",
        "colab": {}
      },
      "cell_type": "code",
      "source": [
        "# from google.colab import files\n",
        "# positive_reviews.to_csv(\"ten_pos_reviews.csv\")\n",
        "# files.download('ten_pos_reviews.csv')"
      ],
      "execution_count": 0,
      "outputs": []
    },
    {
      "metadata": {
        "id": "8W3i2DL0mRLl",
        "colab_type": "text"
      },
      "cell_type": "markdown",
      "source": [
        "###Extract 10 Negative Reviews"
      ]
    },
    {
      "metadata": {
        "id": "EKk_qH33C15-",
        "colab_type": "code",
        "outputId": "231ef834-5e14-4055-e461-3f36662f4019",
        "colab": {
          "base_uri": "https://localhost:8080/",
          "height": 974
        }
      },
      "cell_type": "code",
      "source": [
        "negative_reviews = df[df['reviews.rating'] ==1]\n",
        "negative_reviews = negative_reviews.head(10)\n",
        "negative_reviews"
      ],
      "execution_count": 0,
      "outputs": [
        {
          "output_type": "execute_result",
          "data": {
            "text/html": [
              "<div>\n",
              "<style scoped>\n",
              "    .dataframe tbody tr th:only-of-type {\n",
              "        vertical-align: middle;\n",
              "    }\n",
              "\n",
              "    .dataframe tbody tr th {\n",
              "        vertical-align: top;\n",
              "    }\n",
              "\n",
              "    .dataframe thead th {\n",
              "        text-align: right;\n",
              "    }\n",
              "</style>\n",
              "<table border=\"1\" class=\"dataframe\">\n",
              "  <thead>\n",
              "    <tr style=\"text-align: right;\">\n",
              "      <th></th>\n",
              "      <th>address</th>\n",
              "      <th>categories</th>\n",
              "      <th>city</th>\n",
              "      <th>country</th>\n",
              "      <th>latitude</th>\n",
              "      <th>longitude</th>\n",
              "      <th>name</th>\n",
              "      <th>postalCode</th>\n",
              "      <th>province</th>\n",
              "      <th>reviews.date</th>\n",
              "      <th>reviews.dateAdded</th>\n",
              "      <th>reviews.doRecommend</th>\n",
              "      <th>reviews.id</th>\n",
              "      <th>reviews.rating</th>\n",
              "      <th>reviews.text</th>\n",
              "      <th>reviews.title</th>\n",
              "      <th>reviews.userCity</th>\n",
              "      <th>reviews.username</th>\n",
              "      <th>reviews.userProvince</th>\n",
              "    </tr>\n",
              "  </thead>\n",
              "  <tbody>\n",
              "    <tr>\n",
              "      <th>19</th>\n",
              "      <td>Riviera San Nicol 11/a</td>\n",
              "      <td>Hotels</td>\n",
              "      <td>Mableton</td>\n",
              "      <td>US</td>\n",
              "      <td>45.421611</td>\n",
              "      <td>12.376187</td>\n",
              "      <td>Hotel Russo Palace</td>\n",
              "      <td>30126</td>\n",
              "      <td>GA</td>\n",
              "      <td>2014-05-23T00:00:00Z</td>\n",
              "      <td>2016-10-24T00:00:25Z</td>\n",
              "      <td>NaN</td>\n",
              "      <td>NaN</td>\n",
              "      <td>1.0</td>\n",
              "      <td>Hotellihuone oli ullakolla, jossa ei pystynyt ...</td>\n",
              "      <td>Hotellihuone oli pettymys</td>\n",
              "      <td>NaN</td>\n",
              "      <td>A Traveler</td>\n",
              "      <td>NaN</td>\n",
              "    </tr>\n",
              "    <tr>\n",
              "      <th>20</th>\n",
              "      <td>Riviera San Nicol 11/a</td>\n",
              "      <td>Hotels</td>\n",
              "      <td>Mableton</td>\n",
              "      <td>US</td>\n",
              "      <td>45.421611</td>\n",
              "      <td>12.376187</td>\n",
              "      <td>Hotel Russo Palace</td>\n",
              "      <td>30126</td>\n",
              "      <td>GA</td>\n",
              "      <td>2015-07-02T00:00:00Z</td>\n",
              "      <td>2016-10-24T00:00:25Z</td>\n",
              "      <td>NaN</td>\n",
              "      <td>NaN</td>\n",
              "      <td>1.0</td>\n",
              "      <td>DON'T stay here unless you're less than 2 feet...</td>\n",
              "      <td>Dungeons, Drain Flies and Centipedes</td>\n",
              "      <td>NaN</td>\n",
              "      <td>A Traveler</td>\n",
              "      <td>NaN</td>\n",
              "    </tr>\n",
              "    <tr>\n",
              "      <th>82</th>\n",
              "      <td>1055 E Mcnee Road Of Main St</td>\n",
              "      <td>Corporate Lodging,Hotel &amp; Motel Reservations,H...</td>\n",
              "      <td>Houston</td>\n",
              "      <td>US</td>\n",
              "      <td>29.681085</td>\n",
              "      <td>-95.402996</td>\n",
              "      <td>Comfort Suites</td>\n",
              "      <td>77054</td>\n",
              "      <td>TX</td>\n",
              "      <td>2015-08-24T00:00:00Z</td>\n",
              "      <td>2016-07-18T19:19:30Z</td>\n",
              "      <td>NaN</td>\n",
              "      <td>NaN</td>\n",
              "      <td>1.0</td>\n",
              "      <td>Pathetic and discriminatory. They have a free ...</td>\n",
              "      <td>Discriminatory</td>\n",
              "      <td>Houston</td>\n",
              "      <td>Wesley P</td>\n",
              "      <td>TX</td>\n",
              "    </tr>\n",
              "    <tr>\n",
              "      <th>91</th>\n",
              "      <td>1055 E Mcnee Road Of Main St</td>\n",
              "      <td>Corporate Lodging,Hotel &amp; Motel Reservations,H...</td>\n",
              "      <td>Houston</td>\n",
              "      <td>US</td>\n",
              "      <td>29.681085</td>\n",
              "      <td>-95.402996</td>\n",
              "      <td>Comfort Suites</td>\n",
              "      <td>77054</td>\n",
              "      <td>TX</td>\n",
              "      <td>2015-05-02T00:00:00Z</td>\n",
              "      <td>2016-07-18T19:19:30Z</td>\n",
              "      <td>NaN</td>\n",
              "      <td>NaN</td>\n",
              "      <td>1.0</td>\n",
              "      <td>Visited the comfort suites in new iberia louis...</td>\n",
              "      <td>Horrible experience</td>\n",
              "      <td>Orange</td>\n",
              "      <td>Shante W</td>\n",
              "      <td>TX</td>\n",
              "    </tr>\n",
              "    <tr>\n",
              "      <th>164</th>\n",
              "      <td>1700 N Livermore Ave</td>\n",
              "      <td>Hotels</td>\n",
              "      <td>Livermore</td>\n",
              "      <td>US</td>\n",
              "      <td>37.698349</td>\n",
              "      <td>-121.773710</td>\n",
              "      <td>Hawthorn Suites By Wyndham Livermore Wine Country</td>\n",
              "      <td>94551</td>\n",
              "      <td>CA</td>\n",
              "      <td>2015-08-26T00:00:00Z</td>\n",
              "      <td>2016-10-29T19:31:27Z</td>\n",
              "      <td>NaN</td>\n",
              "      <td>NaN</td>\n",
              "      <td>1.0</td>\n",
              "      <td>Sheets were filthy, jacuzzi was freezing with ...</td>\n",
              "      <td>Sheets were filthy, jacuzzi was freezing with ...</td>\n",
              "      <td>NaN</td>\n",
              "      <td>357skylah</td>\n",
              "      <td>NaN</td>\n",
              "    </tr>\n",
              "    <tr>\n",
              "      <th>180</th>\n",
              "      <td>1700 N Livermore Ave</td>\n",
              "      <td>Hotels</td>\n",
              "      <td>Livermore</td>\n",
              "      <td>US</td>\n",
              "      <td>37.698349</td>\n",
              "      <td>-121.773710</td>\n",
              "      <td>Hawthorn Suites By Wyndham Livermore Wine Country</td>\n",
              "      <td>94551</td>\n",
              "      <td>CA</td>\n",
              "      <td>2015-07-29T00:00:00Z</td>\n",
              "      <td>2016-10-29T19:31:27Z</td>\n",
              "      <td>NaN</td>\n",
              "      <td>NaN</td>\n",
              "      <td>1.0</td>\n",
              "      <td>My boyfriend and I stayed here for two nights ...</td>\n",
              "      <td>Hotel stay gone wrong</td>\n",
              "      <td>NaN</td>\n",
              "      <td>Amanda P</td>\n",
              "      <td>NaN</td>\n",
              "    </tr>\n",
              "    <tr>\n",
              "      <th>182</th>\n",
              "      <td>1700 N Livermore Ave</td>\n",
              "      <td>Hotels</td>\n",
              "      <td>Livermore</td>\n",
              "      <td>US</td>\n",
              "      <td>37.698349</td>\n",
              "      <td>-121.773710</td>\n",
              "      <td>Hawthorn Suites By Wyndham Livermore Wine Country</td>\n",
              "      <td>94551</td>\n",
              "      <td>CA</td>\n",
              "      <td>2015-06-30T00:00:00Z</td>\n",
              "      <td>2016-10-29T19:31:27Z</td>\n",
              "      <td>NaN</td>\n",
              "      <td>NaN</td>\n",
              "      <td>1.0</td>\n",
              "      <td>I have never in my life been treated so terrib...</td>\n",
              "      <td>Horrific experience</td>\n",
              "      <td>NaN</td>\n",
              "      <td>jasontK8812XZ</td>\n",
              "      <td>NaN</td>\n",
              "    </tr>\n",
              "    <tr>\n",
              "      <th>187</th>\n",
              "      <td>864</td>\n",
              "      <td>Hotels</td>\n",
              "      <td>Binghamton</td>\n",
              "      <td>US</td>\n",
              "      <td>42.130338</td>\n",
              "      <td>-75.905832</td>\n",
              "      <td>Fairfield Inn By Marriott Binghamton</td>\n",
              "      <td>13905</td>\n",
              "      <td>Choconut Center</td>\n",
              "      <td>2014-01-04T00:00:00Z</td>\n",
              "      <td>2016-11-03T15:09:03Z</td>\n",
              "      <td>NaN</td>\n",
              "      <td>NaN</td>\n",
              "      <td>1.0</td>\n",
              "      <td>This hotel is undergoing construction. Banging...</td>\n",
              "      <td>Dont stay here</td>\n",
              "      <td>NaN</td>\n",
              "      <td>Jonathan</td>\n",
              "      <td>NaN</td>\n",
              "    </tr>\n",
              "    <tr>\n",
              "      <th>198</th>\n",
              "      <td>864</td>\n",
              "      <td>Hotels</td>\n",
              "      <td>Binghamton</td>\n",
              "      <td>US</td>\n",
              "      <td>42.130338</td>\n",
              "      <td>-75.905832</td>\n",
              "      <td>Fairfield Inn By Marriott Binghamton</td>\n",
              "      <td>13905</td>\n",
              "      <td>Choconut Center</td>\n",
              "      <td>2016-05-28T00:00:00Z</td>\n",
              "      <td>2016-11-03T15:09:03Z</td>\n",
              "      <td>NaN</td>\n",
              "      <td>NaN</td>\n",
              "      <td>1.0</td>\n",
              "      <td>Overpriced, small room with absolutely no view...</td>\n",
              "      <td>Don't stay here.</td>\n",
              "      <td>NaN</td>\n",
              "      <td>A Traveler</td>\n",
              "      <td>NaN</td>\n",
              "    </tr>\n",
              "    <tr>\n",
              "      <th>248</th>\n",
              "      <td>5820 Walden Rd</td>\n",
              "      <td>Lodging,Motels,Hotels,Meeting &amp; Event Planning...</td>\n",
              "      <td>Beaumont</td>\n",
              "      <td>US</td>\n",
              "      <td>30.038670</td>\n",
              "      <td>-94.159330</td>\n",
              "      <td>La Quinta</td>\n",
              "      <td>77707</td>\n",
              "      <td>TX</td>\n",
              "      <td>2012-09-06T00:00:00Z</td>\n",
              "      <td>2016-03-27T14:35:53Z</td>\n",
              "      <td>NaN</td>\n",
              "      <td>NaN</td>\n",
              "      <td>1.0</td>\n",
              "      <td>This hotel is a dump! Upon checking in was tol...</td>\n",
              "      <td>This hotel is a dump! Upon ch...</td>\n",
              "      <td>NaN</td>\n",
              "      <td>margierodriguez.mcqueen</td>\n",
              "      <td>NaN</td>\n",
              "    </tr>\n",
              "  </tbody>\n",
              "</table>\n",
              "</div>"
            ],
            "text/plain": [
              "                          address  \\\n",
              "19         Riviera San Nicol 11/a   \n",
              "20         Riviera San Nicol 11/a   \n",
              "82   1055 E Mcnee Road Of Main St   \n",
              "91   1055 E Mcnee Road Of Main St   \n",
              "164          1700 N Livermore Ave   \n",
              "180          1700 N Livermore Ave   \n",
              "182          1700 N Livermore Ave   \n",
              "187                           864   \n",
              "198                           864   \n",
              "248                5820 Walden Rd   \n",
              "\n",
              "                                            categories        city country  \\\n",
              "19                                              Hotels    Mableton      US   \n",
              "20                                              Hotels    Mableton      US   \n",
              "82   Corporate Lodging,Hotel & Motel Reservations,H...     Houston      US   \n",
              "91   Corporate Lodging,Hotel & Motel Reservations,H...     Houston      US   \n",
              "164                                             Hotels   Livermore      US   \n",
              "180                                             Hotels   Livermore      US   \n",
              "182                                             Hotels   Livermore      US   \n",
              "187                                             Hotels  Binghamton      US   \n",
              "198                                             Hotels  Binghamton      US   \n",
              "248  Lodging,Motels,Hotels,Meeting & Event Planning...    Beaumont      US   \n",
              "\n",
              "      latitude   longitude                                               name  \\\n",
              "19   45.421611   12.376187                                 Hotel Russo Palace   \n",
              "20   45.421611   12.376187                                 Hotel Russo Palace   \n",
              "82   29.681085  -95.402996                                     Comfort Suites   \n",
              "91   29.681085  -95.402996                                     Comfort Suites   \n",
              "164  37.698349 -121.773710  Hawthorn Suites By Wyndham Livermore Wine Country   \n",
              "180  37.698349 -121.773710  Hawthorn Suites By Wyndham Livermore Wine Country   \n",
              "182  37.698349 -121.773710  Hawthorn Suites By Wyndham Livermore Wine Country   \n",
              "187  42.130338  -75.905832               Fairfield Inn By Marriott Binghamton   \n",
              "198  42.130338  -75.905832               Fairfield Inn By Marriott Binghamton   \n",
              "248  30.038670  -94.159330                                          La Quinta   \n",
              "\n",
              "    postalCode         province          reviews.date     reviews.dateAdded  \\\n",
              "19       30126               GA  2014-05-23T00:00:00Z  2016-10-24T00:00:25Z   \n",
              "20       30126               GA  2015-07-02T00:00:00Z  2016-10-24T00:00:25Z   \n",
              "82       77054               TX  2015-08-24T00:00:00Z  2016-07-18T19:19:30Z   \n",
              "91       77054               TX  2015-05-02T00:00:00Z  2016-07-18T19:19:30Z   \n",
              "164      94551               CA  2015-08-26T00:00:00Z  2016-10-29T19:31:27Z   \n",
              "180      94551               CA  2015-07-29T00:00:00Z  2016-10-29T19:31:27Z   \n",
              "182      94551               CA  2015-06-30T00:00:00Z  2016-10-29T19:31:27Z   \n",
              "187      13905  Choconut Center  2014-01-04T00:00:00Z  2016-11-03T15:09:03Z   \n",
              "198      13905  Choconut Center  2016-05-28T00:00:00Z  2016-11-03T15:09:03Z   \n",
              "248      77707               TX  2012-09-06T00:00:00Z  2016-03-27T14:35:53Z   \n",
              "\n",
              "     reviews.doRecommend  reviews.id  reviews.rating  \\\n",
              "19                   NaN         NaN             1.0   \n",
              "20                   NaN         NaN             1.0   \n",
              "82                   NaN         NaN             1.0   \n",
              "91                   NaN         NaN             1.0   \n",
              "164                  NaN         NaN             1.0   \n",
              "180                  NaN         NaN             1.0   \n",
              "182                  NaN         NaN             1.0   \n",
              "187                  NaN         NaN             1.0   \n",
              "198                  NaN         NaN             1.0   \n",
              "248                  NaN         NaN             1.0   \n",
              "\n",
              "                                          reviews.text  \\\n",
              "19   Hotellihuone oli ullakolla, jossa ei pystynyt ...   \n",
              "20   DON'T stay here unless you're less than 2 feet...   \n",
              "82   Pathetic and discriminatory. They have a free ...   \n",
              "91   Visited the comfort suites in new iberia louis...   \n",
              "164  Sheets were filthy, jacuzzi was freezing with ...   \n",
              "180  My boyfriend and I stayed here for two nights ...   \n",
              "182  I have never in my life been treated so terrib...   \n",
              "187  This hotel is undergoing construction. Banging...   \n",
              "198  Overpriced, small room with absolutely no view...   \n",
              "248  This hotel is a dump! Upon checking in was tol...   \n",
              "\n",
              "                                         reviews.title reviews.userCity  \\\n",
              "19                           Hotellihuone oli pettymys              NaN   \n",
              "20                Dungeons, Drain Flies and Centipedes              NaN   \n",
              "82                                      Discriminatory          Houston   \n",
              "91                                 Horrible experience           Orange   \n",
              "164  Sheets were filthy, jacuzzi was freezing with ...              NaN   \n",
              "180                              Hotel stay gone wrong              NaN   \n",
              "182                                Horrific experience              NaN   \n",
              "187                                     Dont stay here              NaN   \n",
              "198                                   Don't stay here.              NaN   \n",
              "248                   This hotel is a dump! Upon ch...              NaN   \n",
              "\n",
              "            reviews.username reviews.userProvince  \n",
              "19                A Traveler                  NaN  \n",
              "20                A Traveler                  NaN  \n",
              "82                  Wesley P                   TX  \n",
              "91                  Shante W                   TX  \n",
              "164                357skylah                  NaN  \n",
              "180                 Amanda P                  NaN  \n",
              "182            jasontK8812XZ                  NaN  \n",
              "187                 Jonathan                  NaN  \n",
              "198               A Traveler                  NaN  \n",
              "248  margierodriguez.mcqueen                  NaN  "
            ]
          },
          "metadata": {
            "tags": []
          },
          "execution_count": 108
        }
      ]
    },
    {
      "metadata": {
        "id": "Vag4TL9-6tir",
        "colab_type": "code",
        "colab": {}
      },
      "cell_type": "code",
      "source": [
        "# from google.colab import files\n",
        "# negative_reviews.to_csv(\"ten_neg_reviews.csv\")\n",
        "# files.download('ten_neg_reviews.csv')"
      ],
      "execution_count": 0,
      "outputs": []
    },
    {
      "metadata": {
        "id": "QvxPLflkoJV4",
        "colab_type": "text"
      },
      "cell_type": "markdown",
      "source": [
        "##Modeling"
      ]
    },
    {
      "metadata": {
        "id": "9jK6JOE2Mn0V",
        "colab_type": "text"
      },
      "cell_type": "markdown",
      "source": [
        "### Apply Sentiment Analysis Function to DataFrame"
      ]
    },
    {
      "metadata": {
        "id": "T7R9yFnihceq",
        "colab_type": "code",
        "outputId": "8edb4873-b31e-4d9b-8576-80b699fcf7cb",
        "colab": {
          "base_uri": "https://localhost:8080/",
          "height": 187
        }
      },
      "cell_type": "code",
      "source": [
        "positive_reviews[\"Sentiment\"] = positive_reviews[\"reviews.text\"].apply(sentiment)"
      ],
      "execution_count": 0,
      "outputs": [
        {
          "output_type": "stream",
          "text": [
            "POSITIVE\n",
            "POSITIVE\n",
            "POSITIVE\n",
            "POSITIVE\n",
            "NEGATIVE\n",
            "POSITIVE\n",
            "NEUTRAL\n",
            "NEGATIVE\n",
            "POSITIVE\n",
            "POSITIVE\n"
          ],
          "name": "stdout"
        }
      ]
    },
    {
      "metadata": {
        "id": "wSetoQZF5yYd",
        "colab_type": "code",
        "outputId": "6cf78a1d-85d7-44a7-904b-c7914b15dc0f",
        "colab": {
          "base_uri": "https://localhost:8080/",
          "height": 187
        }
      },
      "cell_type": "code",
      "source": [
        "negative_reviews[\"Sentiment\"] = negative_reviews[\"reviews.text\"].apply(sentiment)"
      ],
      "execution_count": 0,
      "outputs": [
        {
          "output_type": "stream",
          "text": [
            "NEUTRAL\n",
            "NEGATIVE\n",
            "NEGATIVE\n",
            "NEUTRAL\n",
            "NEGATIVE\n",
            "NEGATIVE\n",
            "NEGATIVE\n",
            "NEGATIVE\n",
            "NEGATIVE\n",
            "NEGATIVE\n"
          ],
          "name": "stdout"
        }
      ]
    },
    {
      "metadata": {
        "id": "a79hX5e-nDMJ",
        "colab_type": "text"
      },
      "cell_type": "markdown",
      "source": [
        "###Detailed Analysis of a Positive Comment"
      ]
    },
    {
      "metadata": {
        "id": "ufRAeSlXk8Zx",
        "colab_type": "code",
        "outputId": "fda09259-a529-4a84-9997-a42f93287d30",
        "colab": {
          "base_uri": "https://localhost:8080/",
          "height": 425
        }
      },
      "cell_type": "code",
      "source": [
        "text = \"None what so ever. The staff were all friendly whether at the 6th floor, Reception Area at the 3rd floor or at the Rox an Italian restaurant especially Mr.Milan who was very friendly courteous.\"\n",
        "print('Calling DetectSentiment')\n",
        "print(json.dumps(comprehend.detect_sentiment(Text=text, LanguageCode='en'), sort_keys=True, indent=4))\n",
        "print('End of DetectSentiment\\n')"
      ],
      "execution_count": 0,
      "outputs": [
        {
          "output_type": "stream",
          "text": [
            "Calling DetectSentiment\n",
            "{\n",
            "    \"ResponseMetadata\": {\n",
            "        \"HTTPHeaders\": {\n",
            "            \"connection\": \"keep-alive\",\n",
            "            \"content-length\": \"163\",\n",
            "            \"content-type\": \"application/x-amz-json-1.1\",\n",
            "            \"date\": \"Sun, 03 Mar 2019 22:02:19 GMT\",\n",
            "            \"x-amzn-requestid\": \"036f04a6-3e00-11e9-bd16-cd3f762c0119\"\n",
            "        },\n",
            "        \"HTTPStatusCode\": 200,\n",
            "        \"RequestId\": \"036f04a6-3e00-11e9-bd16-cd3f762c0119\",\n",
            "        \"RetryAttempts\": 0\n",
            "    },\n",
            "    \"Sentiment\": \"POSITIVE\",\n",
            "    \"SentimentScore\": {\n",
            "        \"Mixed\": 0.014581454917788506,\n",
            "        \"Negative\": 0.01499862875789404,\n",
            "        \"Neutral\": 0.006119218189269304,\n",
            "        \"Positive\": 0.964300811290741\n",
            "    }\n",
            "}\n",
            "End of DetectSentiment\n",
            "\n"
          ],
          "name": "stdout"
        }
      ]
    },
    {
      "metadata": {
        "id": "4mh2u8I1m9E3",
        "colab_type": "text"
      },
      "cell_type": "markdown",
      "source": [
        "###Detailed Analysis of a Negative Comment"
      ]
    },
    {
      "metadata": {
        "id": "esrRhnQMpsTG",
        "colab_type": "code",
        "outputId": "dd54ec38-6138-42d4-bb8f-3d2c364dd2bf",
        "colab": {
          "base_uri": "https://localhost:8080/",
          "height": 425
        }
      },
      "cell_type": "code",
      "source": [
        "text = \"DON'T stay here unless you're less than 2 feet tall or like sleeping with centipedes. Our 4th floor room was an attic with a vaulted ceiling that angles down to 3ft. The bed is only accessible from one side. If you placed your head in the skylight on the other side you might able sit up. The bathtub was impractical with broken shower head. We moved to the 1st floor the next day and within minutes found a centipede on the wall and15 flies. We asked for a broom to get rid of the centipede. Later in the day the receptionist said she gave us something to control the bugs. We never complained about the drain flies so she must have noticed a problem. That night we spent 2 hrs catching 6 centipedes in our room. 2 came from throw pillows. We asked reception for a new room or hotel but there supposedly weren't any hotels with open rooms and if we wanted leave we would have to pay for transportation and both hotels. The next morning we went to reception to tell them about the bug problem. We barely said anything before the woman apologized and said they didn't put the bugs in the room on purpose so we should just go about our day and forget it. She added that she often goes on vacation with her children and sometimes things happen, so she tries to make the best of everything and not start a war. Adding, a few euros isn't going to make anything go away so we should just go enjoy the day because more we talk the less time we have.\"\n",
        "print('Calling DetectSentiment')\n",
        "print(json.dumps(comprehend.detect_sentiment(Text=text, LanguageCode='en'), sort_keys=True, indent=4))\n",
        "print('End of DetectSentiment\\n')"
      ],
      "execution_count": 0,
      "outputs": [
        {
          "output_type": "stream",
          "text": [
            "Calling DetectSentiment\n",
            "{\n",
            "    \"ResponseMetadata\": {\n",
            "        \"HTTPHeaders\": {\n",
            "            \"connection\": \"keep-alive\",\n",
            "            \"content-length\": \"162\",\n",
            "            \"content-type\": \"application/x-amz-json-1.1\",\n",
            "            \"date\": \"Mon, 04 Mar 2019 00:52:45 GMT\",\n",
            "            \"x-amzn-requestid\": \"d31e50db-3e17-11e9-8e07-a7eaaa2bc258\"\n",
            "        },\n",
            "        \"HTTPStatusCode\": 200,\n",
            "        \"RequestId\": \"d31e50db-3e17-11e9-8e07-a7eaaa2bc258\",\n",
            "        \"RetryAttempts\": 0\n",
            "    },\n",
            "    \"Sentiment\": \"NEGATIVE\",\n",
            "    \"SentimentScore\": {\n",
            "        \"Mixed\": 0.08648084849119186,\n",
            "        \"Negative\": 0.5023719072341919,\n",
            "        \"Neutral\": 0.26752495765686035,\n",
            "        \"Positive\": 0.14362233877182007\n",
            "    }\n",
            "}\n",
            "End of DetectSentiment\n",
            "\n"
          ],
          "name": "stdout"
        }
      ]
    },
    {
      "metadata": {
        "id": "IIqQX1TwAKZh",
        "colab_type": "text"
      },
      "cell_type": "markdown",
      "source": [
        "#Cloud Natural Language"
      ]
    },
    {
      "metadata": {
        "id": "4kgZxqyLfiAI",
        "colab_type": "text"
      },
      "cell_type": "markdown",
      "source": [
        "##Ingestion"
      ]
    },
    {
      "metadata": {
        "id": "UNyzZwgmoxwm",
        "colab_type": "code",
        "outputId": "9fcd5f2e-1f11-46db-c47a-0c0732b515e4",
        "colab": {
          "base_uri": "https://localhost:8080/",
          "height": 102
        }
      },
      "cell_type": "code",
      "source": [
        "import os\n",
        "os.listdir(\"/content/gdrive/My Drive/gcp\")"
      ],
      "execution_count": 0,
      "outputs": [
        {
          "output_type": "execute_result",
          "data": {
            "text/plain": [
              "['sentiment-b382ebe233fd.json',\n",
              " 'review_neg.csv',\n",
              " 'review_pos.csv',\n",
              " 'ten_pos_reviews.csv',\n",
              " 'ten_neg_reviews.csv']"
            ]
          },
          "metadata": {
            "tags": []
          },
          "execution_count": 83
        }
      ]
    },
    {
      "metadata": {
        "id": "k7LLMTLNuxgI",
        "colab_type": "code",
        "outputId": "15045467-c1b6-4e6d-ea51-0b78be210db5",
        "colab": {
          "base_uri": "https://localhost:8080/",
          "height": 119
        }
      },
      "cell_type": "code",
      "source": [
        "!ls -la /content/gdrive/My\\ Drive/gcp"
      ],
      "execution_count": 0,
      "outputs": [
        {
          "output_type": "stream",
          "text": [
            "total 25\n",
            "-rw------- 1 root root 5186 Mar  3 18:54 review_neg.csv\n",
            "-rw------- 1 root root 5436 Mar  3 19:00 review_pos.csv\n",
            "-rw------- 1 root root 2345 Mar  2 20:15 sentiment-b382ebe233fd.json\n",
            "-rw------- 1 root root 7528 Mar  3 23:38 ten_neg_reviews.csv\n",
            "-rw------- 1 root root 3311 Mar  3 23:38 ten_pos_reviews.csv\n"
          ],
          "name": "stdout"
        }
      ]
    },
    {
      "metadata": {
        "id": "iKeXkF19owxF",
        "colab_type": "text"
      },
      "cell_type": "markdown",
      "source": [
        "### Activate Service Account Credentials"
      ]
    },
    {
      "metadata": {
        "id": "w7a6TS-hBcaH",
        "colab_type": "code",
        "outputId": "87e35db4-c1d3-4730-b1f3-129fa4f83990",
        "colab": {
          "base_uri": "https://localhost:8080/",
          "height": 34
        }
      },
      "cell_type": "code",
      "source": [
        "!export GOOGLE_APPLICATION_CREDENTIALS=\"/content/gdrive/My Drive/gcp/sentiment-b382ebe233fd.json\"\n",
        "!gcloud auth activate-service-account --key-file /content/gdrive/My\\ Drive/gcp/sentiment-b382ebe233fd.json"
      ],
      "execution_count": 0,
      "outputs": [
        {
          "output_type": "stream",
          "text": [
            "Activated service account credentials for: [sentiment@sentimentanalysis-233320.iam.gserviceaccount.com]\n"
          ],
          "name": "stdout"
        }
      ]
    },
    {
      "metadata": {
        "id": "ejn5K5Hho3kN",
        "colab_type": "text"
      },
      "cell_type": "markdown",
      "source": [
        "###Set Environment Variable"
      ]
    },
    {
      "metadata": {
        "id": "7NB__GEInxFD",
        "colab_type": "code",
        "colab": {}
      },
      "cell_type": "code",
      "source": [
        "os.environ[\"GOOGLE_APPLICATION_CREDENTIALS\"]=\"/content/gdrive/My Drive/gcp/sentiment-b382ebe233fd.json\""
      ],
      "execution_count": 0,
      "outputs": []
    },
    {
      "metadata": {
        "id": "G--QhadAo7d3",
        "colab_type": "text"
      },
      "cell_type": "markdown",
      "source": [
        "### Import the Google Cloud Client Library\n"
      ]
    },
    {
      "metadata": {
        "id": "Drvb8uIBAz7r",
        "colab_type": "code",
        "colab": {}
      },
      "cell_type": "code",
      "source": [
        "from google.cloud import language\n",
        "from google.cloud.language import enums\n",
        "from google.cloud.language import types"
      ],
      "execution_count": 0,
      "outputs": []
    },
    {
      "metadata": {
        "id": "nP2qk_VIpIvK",
        "colab_type": "text"
      },
      "cell_type": "markdown",
      "source": [
        "### Instantiate a Client"
      ]
    },
    {
      "metadata": {
        "id": "pR9WrNOspNF_",
        "colab_type": "code",
        "colab": {}
      },
      "cell_type": "code",
      "source": [
        "client = language.LanguageServiceClient()"
      ],
      "execution_count": 0,
      "outputs": []
    },
    {
      "metadata": {
        "id": "pCNSIlz1py2G",
        "colab_type": "text"
      },
      "cell_type": "markdown",
      "source": [
        "##Modeling"
      ]
    },
    {
      "metadata": {
        "id": "W7UcUM6vpT1_",
        "colab_type": "text"
      },
      "cell_type": "markdown",
      "source": [
        "### Load and Analyze Positive Review Data"
      ]
    },
    {
      "metadata": {
        "id": "CkzRzZwk86SA",
        "colab_type": "code",
        "outputId": "ee9435f3-2860-4f61-842e-b5bca72a40b2",
        "colab": {
          "base_uri": "https://localhost:8080/",
          "height": 51
        }
      },
      "cell_type": "code",
      "source": [
        "import io\n",
        "\n",
        "file_name = '/content/gdrive/My Drive/gcp/ten_pos_reviews.csv'\n",
        "\n",
        "with io.open(file_name, 'rb') as review_file:\n",
        "    content = review_file.read()\n",
        "\n",
        "document = types.Document(\n",
        "        content=content,\n",
        "        type=enums.Document.Type.PLAIN_TEXT)\n",
        "\n",
        "response = client.analyze_sentiment(document)\n",
        "sentiment = response.document_sentiment\n",
        "print('Sentiment Score: {}'.format(sentiment.score))\n",
        "print('Magnitude: {}'.format(sentiment.magnitude))"
      ],
      "execution_count": 0,
      "outputs": [
        {
          "output_type": "stream",
          "text": [
            "Sentiment Score: 0.6000000238418579\n",
            "Magnitude: 11.699999809265137\n"
          ],
          "name": "stdout"
        }
      ]
    },
    {
      "metadata": {
        "id": "l0YjILMAptoj",
        "colab_type": "text"
      },
      "cell_type": "markdown",
      "source": [
        "### Load and Analyze Negative Review Data"
      ]
    },
    {
      "metadata": {
        "id": "ho-3bwPHA4HD",
        "colab_type": "code",
        "outputId": "bd56d360-de01-4892-ccc9-e076e4197ac3",
        "colab": {
          "base_uri": "https://localhost:8080/",
          "height": 51
        }
      },
      "cell_type": "code",
      "source": [
        "file_name = '/content/gdrive/My Drive/gcp/ten_neg_reviews.csv'\n",
        "\n",
        "with io.open(file_name, 'rb') as review_file:\n",
        "    content = review_file.read()\n",
        "\n",
        "document = types.Document(\n",
        "        content=content,\n",
        "        type=enums.Document.Type.PLAIN_TEXT)\n",
        "\n",
        "response = client.analyze_sentiment(document)\n",
        "sentiment = response.document_sentiment\n",
        "print('Sentiment Score: {}'.format(sentiment.score))\n",
        "print('Magnitude: {}'.format(sentiment.magnitude))"
      ],
      "execution_count": 0,
      "outputs": [
        {
          "output_type": "stream",
          "text": [
            "Sentiment Score: -0.30000001192092896\n",
            "Magnitude: 24.899999618530273\n"
          ],
          "name": "stdout"
        }
      ]
    },
    {
      "metadata": {
        "id": "iOqPr4w5qZLO",
        "colab_type": "text"
      },
      "cell_type": "markdown",
      "source": [
        "###Analyze Sentiment for Each Sentence"
      ]
    },
    {
      "metadata": {
        "id": "tFekrjhB14rA",
        "colab_type": "code",
        "colab": {}
      },
      "cell_type": "code",
      "source": [
        "def print_result(annotations):\n",
        "    score = annotations.document_sentiment.score\n",
        "    magnitude = annotations.document_sentiment.magnitude\n",
        "\n",
        "    for index, sentence in enumerate(annotations.sentences):\n",
        "        sentence_sentiment = sentence.sentiment.score\n",
        "        print('Sentence {} has a sentiment score of {}'.format(\n",
        "            index, sentence_sentiment))\n",
        "\n",
        "    print('Overall Sentiment: score of {} with magnitude of {}'.format(\n",
        "        score, magnitude))\n",
        "    return 0"
      ],
      "execution_count": 0,
      "outputs": []
    },
    {
      "metadata": {
        "id": "85y2id_Q12K3",
        "colab_type": "code",
        "colab": {}
      },
      "cell_type": "code",
      "source": [
        "def analyze(review_filename):\n",
        "    \"\"\"Run a sentiment analysis request on text within a passed filename.\"\"\"\n",
        "    client = language.LanguageServiceClient()\n",
        "\n",
        "    with open(review_filename, 'r') as review_file:\n",
        "        # Instantiates a plain text document.\n",
        "        content = review_file.read()\n",
        "\n",
        "    document = types.Document(\n",
        "        content=content,\n",
        "        type=enums.Document.Type.PLAIN_TEXT)\n",
        "    annotations = client.analyze_sentiment(document=document)\n",
        "\n",
        "    # Print the results\n",
        "    print_result(annotations)"
      ],
      "execution_count": 0,
      "outputs": []
    },
    {
      "metadata": {
        "id": "4kn70LTS2Nlz",
        "colab_type": "code",
        "outputId": "dfee1b95-e491-4cfd-89b2-42bd2fa92439",
        "colab": {
          "base_uri": "https://localhost:8080/",
          "height": 289
        }
      },
      "cell_type": "code",
      "source": [
        "file_name = '/content/gdrive/My Drive/gcp/ten_pos_reviews.csv'\n",
        "analyze(file_name)"
      ],
      "execution_count": 0,
      "outputs": [
        {
          "output_type": "stream",
          "text": [
            "Sentence 0 has a sentiment score of -0.10000000149011612\n",
            "Sentence 1 has a sentiment score of 0.8999999761581421\n",
            "Sentence 2 has a sentiment score of 0.8999999761581421\n",
            "Sentence 3 has a sentiment score of 0.800000011920929\n",
            "Sentence 4 has a sentiment score of 0.8999999761581421\n",
            "Sentence 5 has a sentiment score of 0.8999999761581421\n",
            "Sentence 6 has a sentiment score of -0.699999988079071\n",
            "Sentence 7 has a sentiment score of 0.6000000238418579\n",
            "Sentence 8 has a sentiment score of 0.8999999761581421\n",
            "Sentence 9 has a sentiment score of -0.30000001192092896\n",
            "Sentence 10 has a sentiment score of 0.20000000298023224\n",
            "Sentence 11 has a sentiment score of 0.8999999761581421\n",
            "Sentence 12 has a sentiment score of 0.8999999761581421\n",
            "Sentence 13 has a sentiment score of 0.8999999761581421\n",
            "Sentence 14 has a sentiment score of 0.8999999761581421\n",
            "Overall Sentiment: score of 0.6000000238418579 with magnitude of 11.699999809265137\n"
          ],
          "name": "stdout"
        }
      ]
    },
    {
      "metadata": {
        "id": "DaKuE8bV2v2C",
        "colab_type": "code",
        "outputId": "09a44ba2-8ee8-4f37-82e6-5c64e1b6dc6c",
        "colab": {
          "base_uri": "https://localhost:8080/",
          "height": 935
        }
      },
      "cell_type": "code",
      "source": [
        "file_name = '/content/gdrive/My Drive/gcp/ten_neg_reviews.csv'\n",
        "analyze(file_name)"
      ],
      "execution_count": 0,
      "outputs": [
        {
          "output_type": "stream",
          "text": [
            "Sentence 0 has a sentiment score of -0.10000000149011612\n",
            "Sentence 1 has a sentiment score of 0.10000000149011612\n",
            "Sentence 2 has a sentiment score of 0.0\n",
            "Sentence 3 has a sentiment score of 0.0\n",
            "Sentence 4 has a sentiment score of 0.10000000149011612\n",
            "Sentence 5 has a sentiment score of 0.10000000149011612\n",
            "Sentence 6 has a sentiment score of 0.20000000298023224\n",
            "Sentence 7 has a sentiment score of 0.0\n",
            "Sentence 8 has a sentiment score of 0.0\n",
            "Sentence 9 has a sentiment score of -0.30000001192092896\n",
            "Sentence 10 has a sentiment score of 0.0\n",
            "Sentence 11 has a sentiment score of -0.699999988079071\n",
            "Sentence 12 has a sentiment score of -0.10000000149011612\n",
            "Sentence 13 has a sentiment score of -0.20000000298023224\n",
            "Sentence 14 has a sentiment score of -0.6000000238418579\n",
            "Sentence 15 has a sentiment score of 0.20000000298023224\n",
            "Sentence 16 has a sentiment score of 0.20000000298023224\n",
            "Sentence 17 has a sentiment score of -0.20000000298023224\n",
            "Sentence 18 has a sentiment score of -0.800000011920929\n",
            "Sentence 19 has a sentiment score of -0.20000000298023224\n",
            "Sentence 20 has a sentiment score of -0.4000000059604645\n",
            "Sentence 21 has a sentiment score of -0.30000001192092896\n",
            "Sentence 22 has a sentiment score of -0.8999999761581421\n",
            "Sentence 23 has a sentiment score of -0.6000000238418579\n",
            "Sentence 24 has a sentiment score of -0.699999988079071\n",
            "Sentence 25 has a sentiment score of -0.8999999761581421\n",
            "Sentence 26 has a sentiment score of 0.0\n",
            "Sentence 27 has a sentiment score of -0.10000000149011612\n",
            "Sentence 28 has a sentiment score of -0.6000000238418579\n",
            "Sentence 29 has a sentiment score of -0.30000001192092896\n",
            "Sentence 30 has a sentiment score of -0.8999999761581421\n",
            "Sentence 31 has a sentiment score of -0.8999999761581421\n",
            "Sentence 32 has a sentiment score of -0.800000011920929\n",
            "Sentence 33 has a sentiment score of 0.0\n",
            "Sentence 34 has a sentiment score of -0.8999999761581421\n",
            "Sentence 35 has a sentiment score of -0.800000011920929\n",
            "Sentence 36 has a sentiment score of 0.0\n",
            "Sentence 37 has a sentiment score of 0.0\n",
            "Sentence 38 has a sentiment score of -0.699999988079071\n",
            "Sentence 39 has a sentiment score of -0.8999999761581421\n",
            "Sentence 40 has a sentiment score of 0.699999988079071\n",
            "Sentence 41 has a sentiment score of -0.800000011920929\n",
            "Sentence 42 has a sentiment score of 0.30000001192092896\n",
            "Sentence 43 has a sentiment score of -0.8999999761581421\n",
            "Sentence 44 has a sentiment score of -0.8999999761581421\n",
            "Sentence 45 has a sentiment score of -0.800000011920929\n",
            "Sentence 46 has a sentiment score of -0.6000000238418579\n",
            "Sentence 47 has a sentiment score of -0.20000000298023224\n",
            "Sentence 48 has a sentiment score of 0.0\n",
            "Sentence 49 has a sentiment score of -0.8999999761581421\n",
            "Sentence 50 has a sentiment score of -0.4000000059604645\n",
            "Sentence 51 has a sentiment score of -0.699999988079071\n",
            "Sentence 52 has a sentiment score of 0.0\n",
            "Overall Sentiment: score of -0.30000001192092896 with magnitude of 24.899999618530273\n"
          ],
          "name": "stdout"
        }
      ]
    },
    {
      "metadata": {
        "id": "u5_N_iK89Ajp",
        "colab_type": "text"
      },
      "cell_type": "markdown",
      "source": [
        "#Conclusion"
      ]
    },
    {
      "metadata": {
        "id": "at0NcToIq0Bs",
        "colab_type": "text"
      },
      "cell_type": "markdown",
      "source": [
        "* Both AWS and GCP have NLP API tool to analyze sentiment of text. \n",
        "* This project uses a hotel review dataset as an example to demonstrate how to use Amazon Comprehend and Cloud Natural Language for sentiment analysis.\n",
        "* Both are able to effectively identify positive and negative sentiment in hotel reviews.\n",
        "* For Amazon Comprehend, we can get the sentiment score for \"Positive\", \"Negative\", \"Neural\" and \"Mixed\", then the sentiment with the highest score determines the sentiment for the review. The sentiment analysis accuracy for positive reviews is 0.7, and the accuracy for negative reviews is 0.8.\n",
        "* For Cloud Natural Language, we get only one sentiment score. This score determines the degree that this sentiment is \"Positive\", \"Negative\" or \"Neural\". The sentiment score for positive reviews is 0.6, and the sentiment score for negative reviews is -0.3."
      ]
    }
  ]
}